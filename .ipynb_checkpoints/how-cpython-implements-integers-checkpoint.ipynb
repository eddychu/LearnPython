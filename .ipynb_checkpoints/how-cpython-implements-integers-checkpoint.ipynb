{
 "cells": [
  {
   "cell_type": "markdown",
   "id": "199910a2-2d67-4b00-99d4-e16a3203a9e0",
   "metadata": {},
   "source": [
    "## Integer\n",
    "\n",
    "Python integers are not common 32-bit integers you come across in other programming languages. they are **arbitrary-precision integers**, also known as bignums. \n",
    "\n",
    "in Cpython implementation, the bignums are stored as a sequence(array) of digits. on 64-bit platforms, each digit is a 30-bit integer that takes values between 0 and 2^30-1 and is stored as an unsigned 32-bit int (uint32_t). on 32-bit platforms, each digit is a 15-bit integer that takes values between 0 and 2^15 - 1 and is stored as an unsigned 16-bit(uint16_t).\n",
    "\n",
    "we can use ctypes module to inspect the integer type in python."
   ]
  },
  {
   "cell_type": "code",
   "execution_count": 1,
   "id": "9ccd1bb7-ddde-4ae2-989f-d64dc0bcdd7b",
   "metadata": {
    "tags": []
   },
   "outputs": [],
   "source": [
    "import ctypes\n",
    "\n",
    "\n",
    "MAX_DIGITS = 1000\n",
    "\n",
    "# This is a class to map a C `PyLongObject` struct to a Python object\n",
    "class PyLongObject(ctypes.Structure):\n",
    "    _fields_ = [\n",
    "        (\"ob_refcnt\", ctypes.c_ssize_t),\n",
    "        (\"ob_type\", ctypes.c_void_p),\n",
    "        (\"ob_size\", ctypes.c_ssize_t),\n",
    "        (\"ob_digit\", MAX_DIGITS * ctypes.c_uint32)\n",
    "    ]\n",
    "\n",
    "\n",
    "def get_digits(num):\n",
    "    obj = PyLongObject.from_address(id(num))\n",
    "    digits_len = abs(obj.ob_size)\n",
    "    return obj.ob_digit[:digits_len]\n",
    "\n"
   ]
  },
  {
   "cell_type": "markdown",
   "id": "f7bc1be3-fc0e-499a-91ee-4337a3943dde",
   "metadata": {
    "tags": []
   },
   "source": [
    "x = 192387192981928198291829182198\n",
    "get_digits(x)"
   ]
  },
  {
   "cell_type": "markdown",
   "id": "93b1b24a-59e8-437d-8aed-4d9cd69cebba",
   "metadata": {},
   "source": []
  }
 ],
 "metadata": {
  "kernelspec": {
   "display_name": "Python 3 (ipykernel)",
   "language": "python",
   "name": "python3"
  },
  "language_info": {
   "codemirror_mode": {
    "name": "ipython",
    "version": 3
   },
   "file_extension": ".py",
   "mimetype": "text/x-python",
   "name": "python",
   "nbconvert_exporter": "python",
   "pygments_lexer": "ipython3",
   "version": "3.11.2"
  }
 },
 "nbformat": 4,
 "nbformat_minor": 5
}
